{
 "cells": [
  {
   "cell_type": "code",
   "execution_count": 1,
   "metadata": {
    "collapsed": true
   },
   "outputs": [],
   "source": [
    "%matplotlib inline\n",
    "import pandas as pd\n",
    "import re # glob and re for regular expressions\n",
    "import glob"
   ]
  },
  {
   "cell_type": "code",
   "execution_count": 2,
   "metadata": {
    "collapsed": false
   },
   "outputs": [],
   "source": [
    "#elsetry= decibel.groupby(['Date', 'Time']).agg({'Average':['mean']})\n",
    "#elsetry.head()"
   ]
  },
  {
   "cell_type": "code",
   "execution_count": 47,
   "metadata": {
    "collapsed": false
   },
   "outputs": [
    {
     "data": {
      "text/html": [
       "<div style=\"max-height:1000px;max-width:1500px;overflow:auto;\">\n",
       "<table border=\"1\" class=\"dataframe\">\n",
       "  <thead>\n",
       "    <tr style=\"text-align: right;\">\n",
       "      <th></th>\n",
       "      <th>Date</th>\n",
       "      <th>Time</th>\n",
       "      <th>Average</th>\n",
       "      <th>Peak</th>\n",
       "      <th>Location</th>\n",
       "    </tr>\n",
       "  </thead>\n",
       "  <tbody>\n",
       "    <tr>\n",
       "      <th>0</th>\n",
       "      <td> 2015-05-22</td>\n",
       "      <td> 10:38:33</td>\n",
       "      <td> 47.891774</td>\n",
       "      <td> 51.783294</td>\n",
       "      <td> One</td>\n",
       "    </tr>\n",
       "    <tr>\n",
       "      <th>1</th>\n",
       "      <td> 2015-05-22</td>\n",
       "      <td> 10:38:33</td>\n",
       "      <td> 48.094113</td>\n",
       "      <td> 48.676894</td>\n",
       "      <td> One</td>\n",
       "    </tr>\n",
       "    <tr>\n",
       "      <th>2</th>\n",
       "      <td> 2015-05-22</td>\n",
       "      <td> 10:38:34</td>\n",
       "      <td> 45.946596</td>\n",
       "      <td> 46.133619</td>\n",
       "      <td> One</td>\n",
       "    </tr>\n",
       "    <tr>\n",
       "      <th>3</th>\n",
       "      <td> 2015-05-22</td>\n",
       "      <td> 10:38:34</td>\n",
       "      <td> 49.632993</td>\n",
       "      <td> 50.360566</td>\n",
       "      <td> One</td>\n",
       "    </tr>\n",
       "    <tr>\n",
       "      <th>4</th>\n",
       "      <td> 2015-05-22</td>\n",
       "      <td> 10:38:34</td>\n",
       "      <td> 45.902949</td>\n",
       "      <td> 48.295272</td>\n",
       "      <td> One</td>\n",
       "    </tr>\n",
       "  </tbody>\n",
       "</table>\n",
       "</div>"
      ],
      "text/plain": [
       "         Date      Time    Average       Peak Location\n",
       "0  2015-05-22  10:38:33  47.891774  51.783294      One\n",
       "1  2015-05-22  10:38:33  48.094113  48.676894      One\n",
       "2  2015-05-22  10:38:34  45.946596  46.133619      One\n",
       "3  2015-05-22  10:38:34  49.632993  50.360566      One\n",
       "4  2015-05-22  10:38:34  45.902949  48.295272      One"
      ]
     },
     "execution_count": 47,
     "metadata": {},
     "output_type": "execute_result"
    }
   ],
   "source": [
    "path =r'C:\\Pythondirectory\\Data' # use your path\n",
    "allFiles = glob.glob(path + \"/Location1*.csv\")\n",
    "Location1 = pd.DataFrame()\n",
    "list_ = []\n",
    "for file_ in allFiles:\n",
    "    df = pd.read_csv(file_ ,index_col=None, header= 0)\n",
    "    list_.append(df)\n",
    "Location1 = pd.concat(list_)\n",
    "Location1['Location'] = \"One\"\n",
    "Location1.head()"
   ]
  },
  {
   "cell_type": "code",
   "execution_count": 48,
   "metadata": {
    "collapsed": false
   },
   "outputs": [
    {
     "data": {
      "text/plain": [
       "Date         object\n",
       "Time         object\n",
       "Average     float64\n",
       "Peak        float64\n",
       "Location     object\n",
       "Hour        float64\n",
       "dtype: object"
      ]
     },
     "execution_count": 48,
     "metadata": {},
     "output_type": "execute_result"
    }
   ],
   "source": [
    "Location1[\"Hour\"]=Location1['Time'].str[0:2] # to put the substring part of hours for am vs pm\n",
    "Location1[[\"Hour\"]]= Location1[[\"Hour\"]].astype(float) # converting from string to float\n",
    "Location1.dtypes # to check data types, here it will convert to float from string in the previous command"
   ]
  },
  {
   "cell_type": "code",
   "execution_count": 49,
   "metadata": {
    "collapsed": false
   },
   "outputs": [
    {
     "name": "stderr",
     "output_type": "stream",
     "text": [
      "C:\\Users\\Debmalya\\Anaconda\\lib\\site-packages\\IPython\\kernel\\__main__.py:2: SettingWithCopyWarning: \n",
      "A value is trying to be set on a copy of a slice from a DataFrame\n",
      "\n",
      "See the the caveats in the documentation: http://pandas.pydata.org/pandas-docs/stable/indexing.html#indexing-view-versus-copy\n",
      "  from IPython.kernel.zmq import kernelapp as app\n"
     ]
    },
    {
     "data": {
      "text/html": [
       "<div style=\"max-height:1000px;max-width:1500px;overflow:auto;\">\n",
       "<table border=\"1\" class=\"dataframe\">\n",
       "  <thead>\n",
       "    <tr style=\"text-align: right;\">\n",
       "      <th></th>\n",
       "      <th>Date</th>\n",
       "      <th>Time</th>\n",
       "      <th>Average</th>\n",
       "      <th>Peak</th>\n",
       "      <th>Location</th>\n",
       "      <th>Hour</th>\n",
       "      <th>Daytime</th>\n",
       "    </tr>\n",
       "  </thead>\n",
       "  <tbody>\n",
       "    <tr>\n",
       "      <th>2377</th>\n",
       "      <td> 2015-05-27</td>\n",
       "      <td> 17:20:35</td>\n",
       "      <td> 41.161390</td>\n",
       "      <td> 42.066375</td>\n",
       "      <td> One</td>\n",
       "      <td> 17</td>\n",
       "      <td> PM</td>\n",
       "    </tr>\n",
       "    <tr>\n",
       "      <th>2378</th>\n",
       "      <td> 2015-05-27</td>\n",
       "      <td> 17:20:35</td>\n",
       "      <td> 35.353648</td>\n",
       "      <td> 38.025032</td>\n",
       "      <td> One</td>\n",
       "      <td> 17</td>\n",
       "      <td> PM</td>\n",
       "    </tr>\n",
       "    <tr>\n",
       "      <th>2379</th>\n",
       "      <td> 2015-05-27</td>\n",
       "      <td> 17:20:35</td>\n",
       "      <td> 43.794156</td>\n",
       "      <td> 44.514764</td>\n",
       "      <td> One</td>\n",
       "      <td> 17</td>\n",
       "      <td> PM</td>\n",
       "    </tr>\n",
       "    <tr>\n",
       "      <th>2380</th>\n",
       "      <td> 2015-05-27</td>\n",
       "      <td> 17:20:36</td>\n",
       "      <td> 41.551414</td>\n",
       "      <td> 43.460379</td>\n",
       "      <td> One</td>\n",
       "      <td> 17</td>\n",
       "      <td> PM</td>\n",
       "    </tr>\n",
       "    <tr>\n",
       "      <th>2381</th>\n",
       "      <td> 2015-05-27</td>\n",
       "      <td> 17:20:36</td>\n",
       "      <td> 31.460575</td>\n",
       "      <td> 39.297810</td>\n",
       "      <td> One</td>\n",
       "      <td> 17</td>\n",
       "      <td> PM</td>\n",
       "    </tr>\n",
       "  </tbody>\n",
       "</table>\n",
       "</div>"
      ],
      "text/plain": [
       "            Date      Time    Average       Peak Location  Hour Daytime\n",
       "2377  2015-05-27  17:20:35  41.161390  42.066375      One    17      PM\n",
       "2378  2015-05-27  17:20:35  35.353648  38.025032      One    17      PM\n",
       "2379  2015-05-27  17:20:35  43.794156  44.514764      One    17      PM\n",
       "2380  2015-05-27  17:20:36  41.551414  43.460379      One    17      PM\n",
       "2381  2015-05-27  17:20:36  31.460575  39.297810      One    17      PM"
      ]
     },
     "execution_count": 49,
     "metadata": {},
     "output_type": "execute_result"
    }
   ],
   "source": [
    "Location1[\"Daytime\"]= \"AM\"\n",
    "Location1[\"Daytime\"][Location1[\"Hour\"] >12]= \"PM\" # This execution gives woarning, however, it works. :D # pretty easy to R\n",
    "Location1.tail() # to check whether \"PM\" was inserted or not"
   ]
  },
  {
   "cell_type": "code",
   "execution_count": 50,
   "metadata": {
    "collapsed": false
   },
   "outputs": [],
   "source": [
    "path =r'C:\\Pythondirectory\\Data' # use your path\n",
    "allFiles = glob.glob(path + \"/Location2*.csv\")\n",
    "Location2 = pd.DataFrame()\n",
    "list_ = []\n",
    "for file_ in allFiles:\n",
    "    df = pd.read_csv(file_ ,index_col=None, header= 0)\n",
    "    list_.append(df)\n",
    "Location2 = pd.concat(list_)\n",
    "Location2['Location'] = \"Two\""
   ]
  },
  {
   "cell_type": "code",
   "execution_count": 51,
   "metadata": {
    "collapsed": false
   },
   "outputs": [
    {
     "name": "stderr",
     "output_type": "stream",
     "text": [
      "C:\\Users\\Debmalya\\Anaconda\\lib\\site-packages\\IPython\\kernel\\__main__.py:5: SettingWithCopyWarning: \n",
      "A value is trying to be set on a copy of a slice from a DataFrame\n",
      "\n",
      "See the the caveats in the documentation: http://pandas.pydata.org/pandas-docs/stable/indexing.html#indexing-view-versus-copy\n"
     ]
    }
   ],
   "source": [
    "Location2[\"Hour\"]=Location2['Time'].str[0:2] \n",
    "Location2[[\"Hour\"]]= Location2[[\"Hour\"]].astype(float) \n",
    "#Location2.dtypes \n",
    "Location2[\"Daytime\"]= \"AM\"\n",
    "Location2[\"Daytime\"][Location2[\"Hour\"] >12]= \"PM\" \n",
    "#Location2.tail() "
   ]
  },
  {
   "cell_type": "code",
   "execution_count": 52,
   "metadata": {
    "collapsed": true
   },
   "outputs": [],
   "source": [
    "path =r'C:\\Pythondirectory\\Data' # use your path\n",
    "allFiles = glob.glob(path + \"/Location3*.csv\")\n",
    "Location3 = pd.DataFrame()\n",
    "list_ = []\n",
    "for file_ in allFiles:\n",
    "    df = pd.read_csv(file_ ,index_col=None, header= 0)\n",
    "    list_.append(df)\n",
    "Location3 = pd.concat(list_)\n",
    "Location3['Location'] = \"Three\""
   ]
  },
  {
   "cell_type": "code",
   "execution_count": 53,
   "metadata": {
    "collapsed": false
   },
   "outputs": [
    {
     "name": "stderr",
     "output_type": "stream",
     "text": [
      "C:\\Users\\Debmalya\\Anaconda\\lib\\site-packages\\IPython\\kernel\\__main__.py:5: SettingWithCopyWarning: \n",
      "A value is trying to be set on a copy of a slice from a DataFrame\n",
      "\n",
      "See the the caveats in the documentation: http://pandas.pydata.org/pandas-docs/stable/indexing.html#indexing-view-versus-copy\n"
     ]
    }
   ],
   "source": [
    "Location3[\"Hour\"]=Location3['Time'].str[0:2] \n",
    "Location3[[\"Hour\"]]= Location3[[\"Hour\"]].astype(float) \n",
    "#Location2.dtypes \n",
    "Location3[\"Daytime\"]= \"AM\"\n",
    "Location3[\"Daytime\"][Location3[\"Hour\"] >12]= \"PM\" \n",
    "#Location3.tail() "
   ]
  },
  {
   "cell_type": "code",
   "execution_count": 54,
   "metadata": {
    "collapsed": true
   },
   "outputs": [],
   "source": [
    "path =r'C:\\Pythondirectory\\Data' # use your path\n",
    "allFiles = glob.glob(path + \"/Location4*.csv\")\n",
    "Location4 = pd.DataFrame()\n",
    "list_ = []\n",
    "for file_ in allFiles:\n",
    "    df = pd.read_csv(file_ ,index_col=None, header= 0)\n",
    "    list_.append(df)\n",
    "Location4 = pd.concat(list_)\n",
    "Location4['Location'] = \"Four\""
   ]
  },
  {
   "cell_type": "code",
   "execution_count": 55,
   "metadata": {
    "collapsed": false
   },
   "outputs": [
    {
     "name": "stderr",
     "output_type": "stream",
     "text": [
      "C:\\Users\\Debmalya\\Anaconda\\lib\\site-packages\\IPython\\kernel\\__main__.py:5: SettingWithCopyWarning: \n",
      "A value is trying to be set on a copy of a slice from a DataFrame\n",
      "\n",
      "See the the caveats in the documentation: http://pandas.pydata.org/pandas-docs/stable/indexing.html#indexing-view-versus-copy\n"
     ]
    }
   ],
   "source": [
    "Location4[\"Hour\"]=Location4['Time'].str[0:2] \n",
    "Location4[[\"Hour\"]]= Location4[[\"Hour\"]].astype(float) \n",
    "#Location4.dtypes \n",
    "Location4[\"Daytime\"]= \"AM\"\n",
    "Location4[\"Daytime\"][Location4[\"Hour\"] >12]= \"PM\" \n",
    "#Location4.tail() "
   ]
  },
  {
   "cell_type": "code",
   "execution_count": 57,
   "metadata": {
    "collapsed": false
   },
   "outputs": [],
   "source": [
    "# To join them together after indexing has been done\n",
    "temp= [Location1, Location2, Location3, Location4]\n",
    "alldata= pd.concat(temp, ignore_index= True)\n",
    "#alldata.head()"
   ]
  },
  {
   "cell_type": "code",
   "execution_count": 59,
   "metadata": {
    "collapsed": false
   },
   "outputs": [
    {
     "data": {
      "text/html": [
       "<div style=\"max-height:1000px;max-width:1500px;overflow:auto;\">\n",
       "<table border=\"1\" class=\"dataframe\">\n",
       "  <thead>\n",
       "    <tr>\n",
       "      <th></th>\n",
       "      <th>Location</th>\n",
       "      <th>Date</th>\n",
       "      <th>Time</th>\n",
       "      <th>Daytime</th>\n",
       "      <th>Average</th>\n",
       "      <th>Peak</th>\n",
       "    </tr>\n",
       "    <tr>\n",
       "      <th></th>\n",
       "      <th></th>\n",
       "      <th></th>\n",
       "      <th></th>\n",
       "      <th></th>\n",
       "      <th>mean</th>\n",
       "      <th>max</th>\n",
       "    </tr>\n",
       "  </thead>\n",
       "  <tbody>\n",
       "    <tr>\n",
       "      <th>0</th>\n",
       "      <td> Four</td>\n",
       "      <td> 2015-05-22</td>\n",
       "      <td> 11:13:33</td>\n",
       "      <td> AM</td>\n",
       "      <td> 55.307869</td>\n",
       "      <td> 56.527686</td>\n",
       "    </tr>\n",
       "    <tr>\n",
       "      <th>1</th>\n",
       "      <td> Four</td>\n",
       "      <td> 2015-05-22</td>\n",
       "      <td> 11:13:34</td>\n",
       "      <td> AM</td>\n",
       "      <td> 56.135946</td>\n",
       "      <td> 58.829284</td>\n",
       "    </tr>\n",
       "    <tr>\n",
       "      <th>2</th>\n",
       "      <td> Four</td>\n",
       "      <td> 2015-05-22</td>\n",
       "      <td> 11:13:35</td>\n",
       "      <td> AM</td>\n",
       "      <td> 54.573595</td>\n",
       "      <td> 56.211738</td>\n",
       "    </tr>\n",
       "    <tr>\n",
       "      <th>3</th>\n",
       "      <td> Four</td>\n",
       "      <td> 2015-05-22</td>\n",
       "      <td> 11:13:36</td>\n",
       "      <td> AM</td>\n",
       "      <td> 55.277871</td>\n",
       "      <td> 57.617817</td>\n",
       "    </tr>\n",
       "    <tr>\n",
       "      <th>4</th>\n",
       "      <td> Four</td>\n",
       "      <td> 2015-05-22</td>\n",
       "      <td> 11:13:37</td>\n",
       "      <td> AM</td>\n",
       "      <td> 58.118084</td>\n",
       "      <td> 60.970466</td>\n",
       "    </tr>\n",
       "  </tbody>\n",
       "</table>\n",
       "</div>"
      ],
      "text/plain": [
       "  Location        Date      Time Daytime    Average       Peak\n",
       "                                               mean        max\n",
       "0     Four  2015-05-22  11:13:33      AM  55.307869  56.527686\n",
       "1     Four  2015-05-22  11:13:34      AM  56.135946  58.829284\n",
       "2     Four  2015-05-22  11:13:35      AM  54.573595  56.211738\n",
       "3     Four  2015-05-22  11:13:36      AM  55.277871  57.617817\n",
       "4     Four  2015-05-22  11:13:37      AM  58.118084  60.970466"
      ]
     },
     "execution_count": 59,
     "metadata": {},
     "output_type": "execute_result"
    }
   ],
   "source": [
    "min_sum= alldata.groupby([\"Location\", 'Date', \"Time\", \"Daytime\"], as_index=False).agg(\n",
    "                      {'Average':['mean'],'Peak':[\"max\"]})\n",
    "#min_sum.head()"
   ]
  },
  {
   "cell_type": "code",
   "execution_count": 60,
   "metadata": {
    "collapsed": false
   },
   "outputs": [
    {
     "data": {
      "text/html": [
       "<div style=\"max-height:1000px;max-width:1500px;overflow:auto;\">\n",
       "<table border=\"1\" class=\"dataframe\">\n",
       "  <thead>\n",
       "    <tr>\n",
       "      <th></th>\n",
       "      <th></th>\n",
       "      <th></th>\n",
       "      <th>Average</th>\n",
       "      <th>Peak</th>\n",
       "    </tr>\n",
       "    <tr>\n",
       "      <th></th>\n",
       "      <th></th>\n",
       "      <th></th>\n",
       "      <th>mean</th>\n",
       "      <th>max</th>\n",
       "    </tr>\n",
       "    <tr>\n",
       "      <th>Location</th>\n",
       "      <th>Date</th>\n",
       "      <th>Daytime</th>\n",
       "      <th></th>\n",
       "      <th></th>\n",
       "    </tr>\n",
       "  </thead>\n",
       "  <tbody>\n",
       "    <tr>\n",
       "      <th rowspan=\"4\" valign=\"top\">Four</th>\n",
       "      <th rowspan=\"2\" valign=\"top\">2015-05-22</th>\n",
       "      <th>AM</th>\n",
       "      <td> 53.904240</td>\n",
       "      <td> 77.325401</td>\n",
       "    </tr>\n",
       "    <tr>\n",
       "      <th>PM</th>\n",
       "      <td> 55.459547</td>\n",
       "      <td> 71.005885</td>\n",
       "    </tr>\n",
       "    <tr>\n",
       "      <th rowspan=\"2\" valign=\"top\">2015-05-27</th>\n",
       "      <th>AM</th>\n",
       "      <td> 54.820462</td>\n",
       "      <td> 74.501106</td>\n",
       "    </tr>\n",
       "    <tr>\n",
       "      <th>PM</th>\n",
       "      <td> 56.328459</td>\n",
       "      <td> 79.024861</td>\n",
       "    </tr>\n",
       "    <tr>\n",
       "      <th>One</th>\n",
       "      <th>2015-05-22</th>\n",
       "      <th>AM</th>\n",
       "      <td> 45.659235</td>\n",
       "      <td> 71.117488</td>\n",
       "    </tr>\n",
       "  </tbody>\n",
       "</table>\n",
       "</div>"
      ],
      "text/plain": [
       "                               Average       Peak\n",
       "                                  mean        max\n",
       "Location Date       Daytime                      \n",
       "Four     2015-05-22 AM       53.904240  77.325401\n",
       "                    PM       55.459547  71.005885\n",
       "         2015-05-27 AM       54.820462  74.501106\n",
       "                    PM       56.328459  79.024861\n",
       "One      2015-05-22 AM       45.659235  71.117488"
      ]
     },
     "execution_count": 60,
     "metadata": {},
     "output_type": "execute_result"
    }
   ],
   "source": [
    "session_summary= alldata.groupby([\"Location\", 'Date', \"Daytime\"], as_index=True).agg(\n",
    "                      {'Average':['mean'],'Peak':[\"max\"]})\n",
    "session_summary.head()"
   ]
  },
  {
   "cell_type": "code",
   "execution_count": 61,
   "metadata": {
    "collapsed": false
   },
   "outputs": [
    {
     "data": {
      "text/plain": [
       "<matplotlib.axes._subplots.AxesSubplot at 0xecbe2b0>"
      ]
     },
     "execution_count": 61,
     "metadata": {},
     "output_type": "execute_result"
    },
    {
     "data": {
      "image/png": "[encoded data removed]",
      "text/plain": [
       "<matplotlib.figure.Figure at 0xedc9080>"
      ]
     },
     "metadata": {},
     "output_type": "display_data"
    }
   ],
   "source": [
    "session_summary.plot(kind= \"bar\", ylim= [0,130])"
   ]
  },
  {
   "cell_type": "code",
   "execution_count": 62,
   "metadata": {
    "collapsed": false
   },
   "outputs": [
    {
     "data": {
      "text/html": [
       "<div style=\"max-height:1000px;max-width:1500px;overflow:auto;\">\n",
       "<table border=\"1\" class=\"dataframe\">\n",
       "  <thead>\n",
       "    <tr>\n",
       "      <th></th>\n",
       "      <th>Average</th>\n",
       "      <th>Peak</th>\n",
       "    </tr>\n",
       "    <tr>\n",
       "      <th></th>\n",
       "      <th>mean</th>\n",
       "      <th>max</th>\n",
       "    </tr>\n",
       "    <tr>\n",
       "      <th>Location</th>\n",
       "      <th></th>\n",
       "      <th></th>\n",
       "    </tr>\n",
       "  </thead>\n",
       "  <tbody>\n",
       "    <tr>\n",
       "      <th>Four</th>\n",
       "      <td> 55.129952</td>\n",
       "      <td> 79.024861</td>\n",
       "    </tr>\n",
       "    <tr>\n",
       "      <th>One</th>\n",
       "      <td> 42.973658</td>\n",
       "      <td> 71.117488</td>\n",
       "    </tr>\n",
       "    <tr>\n",
       "      <th>Three</th>\n",
       "      <td> 59.034305</td>\n",
       "      <td> 81.476979</td>\n",
       "    </tr>\n",
       "    <tr>\n",
       "      <th>Two</th>\n",
       "      <td> 59.383175</td>\n",
       "      <td> 79.578991</td>\n",
       "    </tr>\n",
       "  </tbody>\n",
       "</table>\n",
       "</div>"
      ],
      "text/plain": [
       "            Average       Peak\n",
       "               mean        max\n",
       "Location                      \n",
       "Four      55.129952  79.024861\n",
       "One       42.973658  71.117488\n",
       "Three     59.034305  81.476979\n",
       "Two       59.383175  79.578991"
      ]
     },
     "execution_count": 62,
     "metadata": {},
     "output_type": "execute_result"
    }
   ],
   "source": [
    "Location_summary= alldata.groupby([\"Location\"], as_index=True).agg(\n",
    "                      {'Average':['mean'],'Peak':[\"max\"]})\n",
    "Location_summary"
   ]
  },
  {
   "cell_type": "code",
   "execution_count": 63,
   "metadata": {
    "collapsed": false
   },
   "outputs": [
    {
     "data": {
      "text/plain": [
       "<matplotlib.axes._subplots.AxesSubplot at 0xe8897f0>"
      ]
     },
     "execution_count": 63,
     "metadata": {},
     "output_type": "execute_result"
    },
    {
     "data": {
      "image/png": "[encoded data removed]",
      "text/plain": [
       "<matplotlib.figure.Figure at 0xe89e710>"
      ]
     },
     "metadata": {},
     "output_type": "display_data"
    }
   ],
   "source": [
    "Location_summary.plot(kind= \"bar\", ylim= [0,130])"
   ]
  }
 ],
 "metadata": {
  "kernelspec": {
   "display_name": "Python 2",
   "language": "python",
   "name": "python2"
  },
  "language_info": {
   "codemirror_mode": {
    "name": "ipython",
    "version": 2
   },
   "file_extension": ".py",
   "mimetype": "text/x-python",
   "name": "python",
   "nbconvert_exporter": "python",
   "pygments_lexer": "ipython2",
   "version": "2.7.9"
  }
 },
 "nbformat": 4,
 "nbformat_minor": 0
}
